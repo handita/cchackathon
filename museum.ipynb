{
 "cells": [
  {
   "cell_type": "code",
   "execution_count": 5,
   "metadata": {
    "collapsed": false
   },
   "outputs": [],
   "source": [
    "import pandas as pd\n",
    "import requests\n",
    "import json"
   ]
  },
  {
   "cell_type": "code",
   "execution_count": 6,
   "metadata": {
    "collapsed": true
   },
   "outputs": [],
   "source": [
    "PROVINCES_CODE = []\n",
    "base_query = 'http://jendela.data.kemdikbud.go.id/api/index.php/CcariMuseum/searchGET?kode_prop='"
   ]
  },
  {
   "cell_type": "code",
   "execution_count": 7,
   "metadata": {
    "collapsed": false
   },
   "outputs": [],
   "source": [
    "resp = requests.get('http://jendela.data.kemdikbud.go.id/api/index.php/CWilayah/wilayahGET')\n",
    "data = json.loads(resp.text)"
   ]
  },
  {
   "cell_type": "code",
   "execution_count": 9,
   "metadata": {
    "collapsed": false
   },
   "outputs": [],
   "source": [
    "for i in data['data']:\n",
    "    PROVINCES_CODE.append(str(i['kode_wilayah'])) "
   ]
  },
  {
   "cell_type": "code",
   "execution_count": 10,
   "metadata": {
    "collapsed": false
   },
   "outputs": [
    {
     "name": "stdout",
     "output_type": "stream",
     "text": [
      "010000  \n",
      "020000  \n",
      "030000  \n",
      "040000  \n",
      "050000  \n",
      "060000  \n",
      "070000  \n",
      "080000  \n",
      "090000  \n",
      "100000  \n",
      "110000  \n",
      "120000  \n",
      "130000  \n",
      "140000  \n",
      "150000  \n",
      "160000  \n",
      "170000  \n",
      "180000  \n",
      "190000  \n",
      "200000  \n",
      "210000  \n",
      "220000  \n",
      "230000  \n",
      "240000  \n",
      "250000  \n",
      "260000  \n",
      "270000  \n",
      "280000  \n",
      "290000  \n",
      "300000  \n",
      "310000  \n",
      "320000  \n",
      "330000  \n",
      "340000  \n",
      "350000  \n"
     ]
    }
   ],
   "source": [
    "result = []\n",
    "for i in PROVINCES_CODE:\n",
    "    print i\n",
    "    resp = requests.get(base_query+i)\n",
    "    data = json.loads(resp.text)\n",
    "    result.append(data['data'])\n",
    "    "
   ]
  },
  {
   "cell_type": "code",
   "execution_count": 11,
   "metadata": {
    "collapsed": false
   },
   "outputs": [],
   "source": [
    "res_all = [item for sublist in result for item in sublist]\n",
    "df = pd.DataFrame(res_all)\n",
    "    "
   ]
  },
  {
   "cell_type": "code",
   "execution_count": 12,
   "metadata": {
    "collapsed": false
   },
   "outputs": [
    {
     "data": {
      "text/html": [
       "<div>\n",
       "<table border=\"1\" class=\"dataframe\">\n",
       "  <thead>\n",
       "    <tr style=\"text-align: right;\">\n",
       "      <th></th>\n",
       "      <th>alamat_jalan</th>\n",
       "      <th>bangunan</th>\n",
       "      <th>bujur</th>\n",
       "      <th>desa_kelurahan</th>\n",
       "      <th>kabupaten_kota</th>\n",
       "      <th>kecamatan</th>\n",
       "      <th>kode_pengelolaan</th>\n",
       "      <th>koleksi</th>\n",
       "      <th>lintang</th>\n",
       "      <th>luas_tanah</th>\n",
       "      <th>museum_id</th>\n",
       "      <th>nama</th>\n",
       "      <th>pengelola</th>\n",
       "      <th>propinsi</th>\n",
       "      <th>sdm</th>\n",
       "      <th>standar</th>\n",
       "      <th>status_kepemilikan</th>\n",
       "      <th>sumber_dana</th>\n",
       "      <th>tahun_berdiri</th>\n",
       "      <th>tipe</th>\n",
       "    </tr>\n",
       "  </thead>\n",
       "  <tbody>\n",
       "    <tr>\n",
       "      <th>0</th>\n",
       "      <td>Jl. Silang Monas, Gambir</td>\n",
       "      <td>Baru</td>\n",
       "      <td>106.8271310</td>\n",
       "      <td>-</td>\n",
       "      <td>Kota Jakarta Pusat</td>\n",
       "      <td>Gambir</td>\n",
       "      <td>MS000126</td>\n",
       "      <td></td>\n",
       "      <td>-6.1754140</td>\n",
       "      <td>80000</td>\n",
       "      <td>CD3B85D4-9056-436C-A8D4-DDAD448CB8B0</td>\n",
       "      <td>Monumen Nasional</td>\n",
       "      <td>PEMERINTAH DAERAH</td>\n",
       "      <td>D.K.I. Jakarta</td>\n",
       "      <td></td>\n",
       "      <td>C</td>\n",
       "      <td>None</td>\n",
       "      <td>PEMERINTAH DAERAH</td>\n",
       "      <td>1975</td>\n",
       "      <td>Umum</td>\n",
       "    </tr>\n",
       "    <tr>\n",
       "      <th>1</th>\n",
       "      <td>Jl. Diponegoro No. 29</td>\n",
       "      <td>Lama</td>\n",
       "      <td>106.8377380</td>\n",
       "      <td>-</td>\n",
       "      <td>Kota Jakarta Selatan</td>\n",
       "      <td>Cilandak</td>\n",
       "      <td>MS000085</td>\n",
       "      <td></td>\n",
       "      <td>-6.1995800</td>\n",
       "      <td></td>\n",
       "      <td>1D2791AF-E637-4CF2-A687-962C3133EDEA</td>\n",
       "      <td>Museum Adam Malik (tidak aktif)</td>\n",
       "      <td>Yayasan Adam Malik</td>\n",
       "      <td>D.K.I. Jakarta</td>\n",
       "      <td></td>\n",
       "      <td>-</td>\n",
       "      <td>None</td>\n",
       "      <td>YAYASAN ADAM MALIK</td>\n",
       "      <td>1985</td>\n",
       "      <td>khusus</td>\n",
       "    </tr>\n",
       "    <tr>\n",
       "      <th>2</th>\n",
       "      <td>Jl. Batan I No.2 Lebak Bulus</td>\n",
       "      <td>Baru</td>\n",
       "      <td>106.7712970</td>\n",
       "      <td>-</td>\n",
       "      <td>Kota Jakarta Selatan</td>\n",
       "      <td>Cilandak</td>\n",
       "      <td>MS000095</td>\n",
       "      <td></td>\n",
       "      <td>-6.2908520</td>\n",
       "      <td></td>\n",
       "      <td>2FFA5520-A076-4A74-B1D4-A4F94FDAA3FA</td>\n",
       "      <td>Museum Al-Qur’an</td>\n",
       "      <td>Perguruan Tinggi Ilmu Al Quran</td>\n",
       "      <td>D.K.I. Jakarta</td>\n",
       "      <td></td>\n",
       "      <td>-</td>\n",
       "      <td>None</td>\n",
       "      <td>PERGURUAN TINGGI ILMU AL QURAN</td>\n",
       "      <td>1981</td>\n",
       "      <td>Khusus</td>\n",
       "    </tr>\n",
       "    <tr>\n",
       "      <th>3</th>\n",
       "      <td>Gedung Lembaga Alkitab Indonesia Lt. 2 Jl. Sal...</td>\n",
       "      <td>Lama</td>\n",
       "      <td>106.9025100</td>\n",
       "      <td>-</td>\n",
       "      <td>Kota Jakarta Pusat</td>\n",
       "      <td>Senen</td>\n",
       "      <td>MS000089</td>\n",
       "      <td>6000</td>\n",
       "      <td>-6.1408990</td>\n",
       "      <td></td>\n",
       "      <td>C9A0C7E9-E930-4EE3-8E39-9B907D1ED89B</td>\n",
       "      <td>Museum Alkitab</td>\n",
       "      <td>Yayasan Lembaga Alkitab Indonesia</td>\n",
       "      <td>D.K.I. Jakarta</td>\n",
       "      <td></td>\n",
       "      <td>B</td>\n",
       "      <td>None</td>\n",
       "      <td>YAYASAN LEMBAGA ALKITAB INDONESIA</td>\n",
       "      <td>1954</td>\n",
       "      <td>khusus</td>\n",
       "    </tr>\n",
       "    <tr>\n",
       "      <th>4</th>\n",
       "      <td>Jl. Salemba No.6</td>\n",
       "      <td>Lama</td>\n",
       "      <td>106.8486230</td>\n",
       "      <td>-</td>\n",
       "      <td>Kota Jakarta Pusat</td>\n",
       "      <td>Senen</td>\n",
       "      <td>MS000142</td>\n",
       "      <td></td>\n",
       "      <td>-6.1939590</td>\n",
       "      <td></td>\n",
       "      <td>1738F1BC-5849-4B6F-97D9-F0C22EAEDEAE</td>\n",
       "      <td>Museum Anatomy FK, UI</td>\n",
       "      <td>Fakultas Kedokteran UI</td>\n",
       "      <td>D.K.I. Jakarta</td>\n",
       "      <td></td>\n",
       "      <td>-</td>\n",
       "      <td>None</td>\n",
       "      <td>FAKULTAS KEDOKTERAN UI</td>\n",
       "      <td></td>\n",
       "      <td>khusus</td>\n",
       "    </tr>\n",
       "  </tbody>\n",
       "</table>\n",
       "</div>"
      ],
      "text/plain": [
       "                                        alamat_jalan bangunan        bujur  \\\n",
       "0                           Jl. Silang Monas, Gambir     Baru  106.8271310   \n",
       "1                              Jl. Diponegoro No. 29     Lama  106.8377380   \n",
       "2                       Jl. Batan I No.2 Lebak Bulus     Baru  106.7712970   \n",
       "3  Gedung Lembaga Alkitab Indonesia Lt. 2 Jl. Sal...     Lama  106.9025100   \n",
       "4                                   Jl. Salemba No.6     Lama  106.8486230   \n",
       "\n",
       "  desa_kelurahan        kabupaten_kota kecamatan kode_pengelolaan koleksi  \\\n",
       "0              -    Kota Jakarta Pusat    Gambir         MS000126           \n",
       "1              -  Kota Jakarta Selatan  Cilandak         MS000085           \n",
       "2              -  Kota Jakarta Selatan  Cilandak         MS000095           \n",
       "3              -    Kota Jakarta Pusat     Senen         MS000089    6000   \n",
       "4              -    Kota Jakarta Pusat     Senen         MS000142           \n",
       "\n",
       "      lintang luas_tanah                             museum_id  \\\n",
       "0  -6.1754140      80000  CD3B85D4-9056-436C-A8D4-DDAD448CB8B0   \n",
       "1  -6.1995800             1D2791AF-E637-4CF2-A687-962C3133EDEA   \n",
       "2  -6.2908520             2FFA5520-A076-4A74-B1D4-A4F94FDAA3FA   \n",
       "3  -6.1408990             C9A0C7E9-E930-4EE3-8E39-9B907D1ED89B   \n",
       "4  -6.1939590             1738F1BC-5849-4B6F-97D9-F0C22EAEDEAE   \n",
       "\n",
       "                              nama                          pengelola  \\\n",
       "0                Monumen Nasional                   PEMERINTAH DAERAH   \n",
       "1  Museum Adam Malik (tidak aktif)                 Yayasan Adam Malik   \n",
       "2                 Museum Al-Qur’an     Perguruan Tinggi Ilmu Al Quran   \n",
       "3                   Museum Alkitab  Yayasan Lembaga Alkitab Indonesia   \n",
       "4            Museum Anatomy FK, UI             Fakultas Kedokteran UI   \n",
       "\n",
       "         propinsi sdm standar status_kepemilikan  \\\n",
       "0  D.K.I. Jakarta           C               None   \n",
       "1  D.K.I. Jakarta           -               None   \n",
       "2  D.K.I. Jakarta           -               None   \n",
       "3  D.K.I. Jakarta           B               None   \n",
       "4  D.K.I. Jakarta           -               None   \n",
       "\n",
       "                         sumber_dana tahun_berdiri    tipe  \n",
       "0                  PEMERINTAH DAERAH          1975    Umum  \n",
       "1                 YAYASAN ADAM MALIK          1985  khusus  \n",
       "2     PERGURUAN TINGGI ILMU AL QURAN          1981  Khusus  \n",
       "3  YAYASAN LEMBAGA ALKITAB INDONESIA          1954  khusus  \n",
       "4             FAKULTAS KEDOKTERAN UI                khusus  "
      ]
     },
     "execution_count": 12,
     "metadata": {},
     "output_type": "execute_result"
    }
   ],
   "source": [
    "df.head()"
   ]
  },
  {
   "cell_type": "code",
   "execution_count": 13,
   "metadata": {
    "collapsed": false
   },
   "outputs": [],
   "source": [
    "df.to_csv('museum.csv',encoding='utf-8')"
   ]
  },
  {
   "cell_type": "code",
   "execution_count": null,
   "metadata": {
    "collapsed": true
   },
   "outputs": [],
   "source": []
  }
 ],
 "metadata": {
  "kernelspec": {
   "display_name": "Python 2",
   "language": "python",
   "name": "python2"
  },
  "language_info": {
   "codemirror_mode": {
    "name": "ipython",
    "version": 2
   },
   "file_extension": ".py",
   "mimetype": "text/x-python",
   "name": "python",
   "nbconvert_exporter": "python",
   "pygments_lexer": "ipython2",
   "version": "2.7.12"
  }
 },
 "nbformat": 4,
 "nbformat_minor": 0
}
